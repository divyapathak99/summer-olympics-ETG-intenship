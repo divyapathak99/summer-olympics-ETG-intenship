{
  "nbformat": 4,
  "nbformat_minor": 0,
  "metadata": {
    "colab": {
      "name": "Summer.ipynb",
      "provenance": []
    },
    "kernelspec": {
      "name": "python3",
      "display_name": "Python 3"
    },
    "language_info": {
      "name": "python"
    }
  },
  "cells": [
    {
      "cell_type": "markdown",
      "metadata": {
        "id": "i_TyohsM1gJo"
      },
      "source": [
        "#**Summer Olympics Data Analysis Assignment**"
      ]
    },
    {
      "cell_type": "markdown",
      "metadata": {
        "id": "sz7DuJlE1sOm"
      },
      "source": [
        "###**1. In how many cities Summer Olympics is held so far?**"
      ]
    },
    {
      "cell_type": "code",
      "metadata": {
        "id": "GQB7WBA6TZhm"
      },
      "source": [
        "import pandas as pd\n",
        "import numpy as np\n",
        "import matplotlib.pyplot as plt"
      ],
      "execution_count": 12,
      "outputs": []
    },
    {
      "cell_type": "code",
      "metadata": {
        "id": "xjvg-S6cTd0Z",
        "colab": {
          "base_uri": "https://localhost:8080/"
        },
        "outputId": "eff67c39-efb4-45d5-d447-72abe70216c5"
      },
      "source": [
        "df = pd.read_csv(\"summer.csv\")\n",
        "print(f\"Number of cities in which olympic is held so far: {len(df['City'].unique())}\")\n"
      ],
      "execution_count": 13,
      "outputs": [
        {
          "output_type": "stream",
          "name": "stdout",
          "text": [
            "Number of cities in which olympic is held so far: 22\n"
          ]
        }
      ]
    },
    {
      "cell_type": "markdown",
      "metadata": {
        "id": "xvb7xVJp2W5S"
      },
      "source": [
        "###**2. Which sport is having most number of Gold Medals so far? (Top 5)**"
      ]
    },
    {
      "cell_type": "code",
      "metadata": {
        "colab": {
          "base_uri": "https://localhost:8080/",
          "height": 478
        },
        "id": "4TgSlvOTepsu",
        "outputId": "c672280c-b799-473f-8f12-cfd19b9ba0a7"
      },
      "source": [
        "# select only the sports having gold medals.\n",
        "df1 = df[df['Medal'] == 'Gold']\n",
        "# count the number of medals for every sports to find the top5 sports having most number of gold medals so far.\n",
        "data = df1.groupby('Sport').count()['Medal'].sort_values(ascending=False).head()\n",
        "data.plot(kind= 'bar', title = 'Top 5 sports in terms of number of gold medals')\n",
        "\n",
        "# Print table to top5 sports in terms of number of gold medals.\n",
        "print(\"Table: Top5 sports in terms of number of gold medals\")\n",
        "data"
      ],
      "execution_count": 15,
      "outputs": [
        {
          "output_type": "stream",
          "name": "stdout",
          "text": [
            "Table: Top5 sports in terms of number of gold medals\n"
          ]
        },
        {
          "output_type": "execute_result",
          "data": {
            "text/plain": [
              "Sport\n",
              "Aquatics      1421\n",
              "Athletics     1215\n",
              "Rowing         890\n",
              "Gymnastics     820\n",
              "Fencing        552\n",
              "Name: Medal, dtype: int64"
            ]
          },
          "metadata": {},
          "execution_count": 15
        },
        {
          "output_type": "display_data",
          "data": {
            "image/png": "[encoded data removed]",
            "text/plain": [
              "<Figure size 432x288 with 1 Axes>"
            ]
          },
          "metadata": {
            "needs_background": "light"
          }
        }
      ]
    },
    {
      "cell_type": "markdown",
      "metadata": {
        "id": "EXLljGnV2pUb"
      },
      "source": [
        "###**3. Which sport is having most number of medals so far? (Top 5)**"
      ]
    },
    {
      "cell_type": "code",
      "metadata": {
        "colab": {
          "base_uri": "https://localhost:8080/",
          "height": 478
        },
        "id": "4osMa8gj3tDg",
        "outputId": "d0a3928c-8608-4510-aed9-f564d1a07a4e"
      },
      "source": [
        "# count the number of medals for every sports to find the top5 sports having most number of medals so far.\n",
        "data = df.groupby('Sport').count()['Medal'].sort_values(ascending=False).head()\n",
        "data.plot(kind= 'bar', title = 'Top5 sports in terms of number of medals')\n",
        "\n",
        "# Print table to top5 sports in terms of number of medals.\n",
        "print(\"Table: Top5 sports in terms of number of medals\")\n",
        "data"
      ],
      "execution_count": 16,
      "outputs": [
        {
          "output_type": "stream",
          "name": "stdout",
          "text": [
            "Table: Top5 sports in terms of number of medals\n"
          ]
        },
        {
          "output_type": "execute_result",
          "data": {
            "text/plain": [
              "Sport\n",
              "Aquatics      4170\n",
              "Athletics     3638\n",
              "Rowing        2667\n",
              "Gymnastics    2307\n",
              "Fencing       1613\n",
              "Name: Medal, dtype: int64"
            ]
          },
          "metadata": {},
          "execution_count": 16
        },
        {
          "output_type": "display_data",
          "data": {
            "image/png": "[encoded data removed]",
            "text/plain": [
              "<Figure size 432x288 with 1 Axes>"
            ]
          },
          "metadata": {
            "needs_background": "light"
          }
        }
      ]
    },
    {
      "cell_type": "markdown",
      "metadata": {
        "id": "BGBgiYeW23WC"
      },
      "source": [
        "###**4. Which player has won most number of medals? (Top 5)**"
      ]
    },
    {
      "cell_type": "code",
      "metadata": {
        "colab": {
          "base_uri": "https://localhost:8080/",
          "height": 538
        },
        "id": "v853kwVp31GN",
        "outputId": "f29d71e1-64b7-4244-b6fb-3061f0fd5896"
      },
      "source": [
        "# count the number of medals for every Athlete to find the top5 players having most number of medals.\n",
        "data = df.groupby('Athlete').count()['Medal'].sort_values(ascending=False).head()\n",
        "data.plot(kind= 'bar', title = 'Top5 players in terms of number of medals')\n",
        "\n",
        "# Print table to top5 players in terms of number of medals.\n",
        "print(\"Table: Top5 players in terms of number of medals\")\n",
        "data"
      ],
      "execution_count": 17,
      "outputs": [
        {
          "output_type": "stream",
          "name": "stdout",
          "text": [
            "Table: Top5 players in terms of number of medals\n"
          ]
        },
        {
          "output_type": "execute_result",
          "data": {
            "text/plain": [
              "Athlete\n",
              "PHELPS, Michael         22\n",
              "LATYNINA, Larisa        18\n",
              "ANDRIANOV, Nikolay      15\n",
              "MANGIAROTTI, Edoardo    13\n",
              "SHAKHLIN, Boris         13\n",
              "Name: Medal, dtype: int64"
            ]
          },
          "metadata": {},
          "execution_count": 17
        },
        {
          "output_type": "display_data",
          "data": {
            "image/png": "[encoded data removed]",
            "text/plain": [
              "<Figure size 432x288 with 1 Axes>"
            ]
          },
          "metadata": {
            "needs_background": "light"
          }
        }
      ]
    },
    {
      "cell_type": "markdown",
      "metadata": {
        "id": "xTAhCRrN28SP"
      },
      "source": [
        "###**5. Which player has won most number Gold Medals of medals? (Top 5)**"
      ]
    },
    {
      "cell_type": "code",
      "metadata": {
        "colab": {
          "base_uri": "https://localhost:8080/",
          "height": 505
        },
        "id": "c-qM0hMU354f",
        "outputId": "8b879e93-522f-491e-9053-54c848a5ad4b"
      },
      "source": [
        "# select only the data with Gold medals.\n",
        "df1 = df[df['Medal'] == 'Gold']\n",
        "\n",
        "# count the number of gold medals for every Athlete to find top5 gold medalists.\n",
        "data = df1.groupby('Athlete').count()['Medal'].sort_values(ascending=False).head()\n",
        "data.plot(kind= 'bar', title = 'Top5 gold medalists players')\n",
        "\n",
        "# Print table to top5 players in terms of number of gold medals.\n",
        "print(\"Table: Top5 gold medalists\")\n",
        "data\n"
      ],
      "execution_count": 18,
      "outputs": [
        {
          "output_type": "stream",
          "name": "stdout",
          "text": [
            "Table: Top5 gold medalists\n"
          ]
        },
        {
          "output_type": "execute_result",
          "data": {
            "text/plain": [
              "Athlete\n",
              "PHELPS, Michael     18\n",
              "NURMI, Paavo         9\n",
              "SPITZ, Mark          9\n",
              "LEWIS, Carl          9\n",
              "LATYNINA, Larisa     9\n",
              "Name: Medal, dtype: int64"
            ]
          },
          "metadata": {},
          "execution_count": 18
        },
        {
          "output_type": "display_data",
          "data": {
            "image/png": "[encoded data removed]",
            "text/plain": [
              "<Figure size 432x288 with 1 Axes>"
            ]
          },
          "metadata": {
            "needs_background": "light"
          }
        }
      ]
    },
    {
      "cell_type": "markdown",
      "metadata": {
        "id": "Y91wQAut3G_S"
      },
      "source": [
        "###**6. In which year India won first Gold Medal in Summer Olympics?**"
      ]
    },
    {
      "cell_type": "code",
      "metadata": {
        "colab": {
          "base_uri": "https://localhost:8080/"
        },
        "id": "WeaJBHtb3_0A",
        "outputId": "5b69095a-d80c-46fb-c5ef-e6f130db15e5"
      },
      "source": [
        "#select only the data of the indian(IND) country.\n",
        "df1 = df[df[\"Country\"] == 'IND']\n",
        "\n",
        "#select only the data of gold medal.\n",
        "df2 = df1[df1[\"Medal\"] == 'Gold']\n",
        "\n",
        "# Make an array of Year in which india won the gold medal in the ascending order(since the data is arranged in ascending order of Year, so its automatically fit our requirement).\n",
        "years = df2['Year'].values\n",
        "\n",
        "# first value of years is the first time india won the gold medal.\n",
        "print(f\"INDIA won the first gold medal in the year: {years[0]}\")"
      ],
      "execution_count": 19,
      "outputs": [
        {
          "output_type": "stream",
          "name": "stdout",
          "text": [
            "INDIA won the first gold medal in the year: 1928\n"
          ]
        }
      ]
    },
    {
      "cell_type": "markdown",
      "metadata": {
        "id": "36PedziB3QIv"
      },
      "source": [
        "###**7. Which event is most popular in terms on number of players? (Top 5)**"
      ]
    },
    {
      "cell_type": "code",
      "metadata": {
        "colab": {
          "base_uri": "https://localhost:8080/",
          "height": 510
        },
        "id": "4ds-ha8a4Ees",
        "outputId": "86a4e566-5d33-4794-f446-56e32704d2bd"
      },
      "source": [
        "# count the number of athlete for every event to check the popularity of the event.\n",
        "data = df.groupby('Event').count()['Athlete'].sort_values(ascending=False).head()\n",
        "data.plot(kind= 'bar', title = 'Top5 popular events')\n",
        "\n",
        "# print table of top5 popular events.\n",
        "print(\"Table: Top5 popular events\")\n",
        "data\n"
      ],
      "execution_count": 20,
      "outputs": [
        {
          "output_type": "stream",
          "name": "stdout",
          "text": [
            "Table: Top5 popular events\n"
          ]
        },
        {
          "output_type": "execute_result",
          "data": {
            "text/plain": [
              "Event\n",
              "Football            1497\n",
              "Hockey              1422\n",
              "Team Competition    1147\n",
              "Basketball          1012\n",
              "Handball             973\n",
              "Name: Athlete, dtype: int64"
            ]
          },
          "metadata": {},
          "execution_count": 20
        },
        {
          "output_type": "display_data",
          "data": {
            "image/png": "[encoded data removed]",
            "text/plain": [
              "<Figure size 432x288 with 1 Axes>"
            ]
          },
          "metadata": {
            "needs_background": "light"
          }
        }
      ]
    },
    {
      "cell_type": "markdown",
      "metadata": {
        "id": "M9EcqUzi3ehq"
      },
      "source": [
        "###**8. Which sport is having most female Gold Medalists? (Top 5)**"
      ]
    },
    {
      "cell_type": "code",
      "metadata": {
        "colab": {
          "base_uri": "https://localhost:8080/",
          "height": 478
        },
        "id": "8DHiAc9l2i_n",
        "outputId": "0973c675-8c98-4d5d-891d-79518ccd5b3d"
      },
      "source": [
        "#select only the data of the female players.\n",
        "df1 = df[df[\"Gender\"] == \"Women\"]\n",
        "\n",
        "#select only the data of the female players with gold medal.\n",
        "df2 = df1[df1[\"Medal\"] == \"Gold\"]\n",
        "\n",
        "# count the number of gold medal for each sports to find the top 5 female gold medalists.\n",
        "data = df2.groupby('Sport').count()['Medal'].sort_values(ascending=False).head()\n",
        "data.plot(kind= 'bar', title = 'Top5 female gold medalists')\n",
        "# print table of top5 female gold medalists.\n",
        "print(\"Table: Top5 female gold medalists\")\n",
        "data"
      ],
      "execution_count": 21,
      "outputs": [
        {
          "output_type": "stream",
          "name": "stdout",
          "text": [
            "Table: Top5 female gold medalists\n"
          ]
        },
        {
          "output_type": "execute_result",
          "data": {
            "text/plain": [
              "Sport\n",
              "Aquatics      589\n",
              "Athletics     389\n",
              "Gymnastics    268\n",
              "Rowing        217\n",
              "Volleyball    166\n",
              "Name: Medal, dtype: int64"
            ]
          },
          "metadata": {},
          "execution_count": 21
        },
        {
          "output_type": "display_data",
          "data": {
            "image/png": "[encoded data removed]",
            "text/plain": [
              "<Figure size 432x288 with 1 Axes>"
            ]
          },
          "metadata": {
            "needs_background": "light"
          }
        }
      ]
    },
    {
      "cell_type": "code",
      "metadata": {
        "id": "6ITfznkQ4I1m"
      },
      "source": [
        ""
      ],
      "execution_count": null,
      "outputs": []
    }
  ]
}