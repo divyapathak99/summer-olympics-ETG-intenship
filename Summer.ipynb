#!/usr/bin/env python
# coding: utf-8

# # Summer Olympics Data Analysis Assignment

# ### 1. In how many cities Summer Olympics is held so far?

# In[2]:


import pandas as pd
import numpy as np
import matplotlib.pyplot as plt


# In[85]:


df = pd.read_csv("summer.csv")
print(f"Number of cities in which olympic is held so far: {len(df['City'].unique())}")


# ### 2. Which sport is having most number of Gold Medals so far? (Top 5)

# In[110]:


# select only the sports having gold medals.
df1 = df[df['Medal'] == 'Gold']
# count the number of medals for every sports to find the top5 sports having most number of gold medals so far.
data = df1.groupby('Sport').count()['Medal'].sort_values(ascending=False).head()
data.plot(kind= 'bar', title = 'Top 5 sports in terms of number of gold medals')

# Print table to top5 sports in terms of number of gold medals.
print("Table: Top5 sports in terms of number of gold medals")
data


# ### 3. Which sport is having most number of medals so far? (Top 5)

# In[102]:


# count the number of medals for every sports to find the top5 sports having most number of medals so far.
data = df.groupby('Sport').count()['Medal'].sort_values(ascending=False).head()
data.plot(kind= 'bar', title = 'Top5 sports in terms of number of medals')

# Print table to top5 sports in terms of number of medals.
print("Table: Top5 sports in terms of number of medals")
data


# ### 4. Which player has won most number of medals? (Top 5)

# In[103]:


# count the number of medals for every Athlete to find the top5 players having most number of medals.
data = df.groupby('Athlete').count()['Medal'].sort_values(ascending=False).head()
data.plot(kind= 'bar', title = 'Top5 players in terms of number of medals')

# Print table to top5 players in terms of number of medals.
print("Table: Top5 players in terms of number of medals")
data


# ### 5. Which player has won most number Gold Medals of medals? (Top 5)

# In[111]:


# select only the data with Gold medals.
df1 = df[df['Medal'] == 'Gold']

# count the number of gold medals for every Athlete to find top5 gold medalists.
data = df1.groupby('Athlete').count()['Medal'].sort_values(ascending=False).head()
data.plot(kind= 'bar', title = 'Top5 gold medalists players')

# Print table to top5 players in terms of number of gold medals.
print("Table: Top5 gold medalists")
data


# ### 6. In which year India won first Gold Medal in Summer Olympics?

# In[42]:


#select only the data of the indian(IND) country.
df1 = df[df["Country"] == 'IND']

#select only the data of gold medal.
df2 = df1[df1["Medal"] == 'Gold']

# Make an array of Year in which india won the gold medal in the ascending order(since the data is arranged in ascending order of Year, so its automatically fit our requirement).
years = df2['Year'].values

# first value of years is the first time india won the gold medal.
print(f"INDIA won the first gold medal in the year: {years[0]}")


# ### 7. Which event is most popular in terms on number of players? (Top 5)

# In[108]:


# count the number of athlete for every event to check the popularity of the event.
data = df.groupby('Event').count()['Athlete'].sort_values(ascending=False).head()
data.plot(kind= 'bar', title = 'Top5 popular events')

# print table of top5 popular events.
print("Table: Top5 popular events")
data


# ### 8. Which sport is having most female Gold Medalists? (Top 5)

# In[107]:


#select only the data of the female players.
df1 = df[df["Gender"] == "Women"]

#select only the data of the female players with gold medal.
df2 = df1[df1["Medal"] == "Gold"]

# count the number of gold medal for each sports to find the top 5 female gold medalists.
data = df2.groupby('Sport').count()['Medal'].sort_values(ascending=False).head()
data.plot(kind= 'bar', title = 'Top5 female gold medalists')
# print table of top5 female gold medalists.
print("Table: Top5 female gold medalists")
data


# In[ ]:




